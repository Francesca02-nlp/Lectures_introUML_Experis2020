{
  "nbformat": 4,
  "nbformat_minor": 0,
  "metadata": {
    "kernelspec": {
      "display_name": "Python 3",
      "language": "python",
      "name": "python3"
    },
    "language_info": {
      "codemirror_mode": {
        "name": "ipython",
        "version": 3
      },
      "file_extension": ".py",
      "mimetype": "text/x-python",
      "name": "python",
      "nbconvert_exporter": "python",
      "pygments_lexer": "ipython3",
      "version": "3.6.6"
    },
    "pycharm": {
      "stem_cell": {
        "cell_type": "raw",
        "metadata": {
          "collapsed": false
        },
        "source": []
      }
    },
    "colab": {
      "name": "AdvanceML - ExpAcademy - Part2.ipynb",
      "provenance": [],
      "include_colab_link": true
    }
  },
  "cells": [
    {
      "cell_type": "markdown",
      "metadata": {
        "id": "view-in-github",
        "colab_type": "text"
      },
      "source": [
        "<a href=\"https://colab.research.google.com/github/matteoalberti/Lectures_introUML_Experis2020/blob/main/Dimensionality_Reduction/Day3.ipynb\" target=\"_parent\"><img src=\"https://colab.research.google.com/assets/colab-badge.svg\" alt=\"Open In Colab\"/></a>"
      ]
    },
    {
      "cell_type": "markdown",
      "metadata": {
        "id": "CBLBwiI48QNM"
      },
      "source": [
        "# Introduction to Autoencoder"
      ]
    },
    {
      "cell_type": "markdown",
      "metadata": {
        "id": "3rzVKCR48QNM"
      },
      "source": [
        "   Email: m.alberti@deeplearningitalia.com\n",
        "\n",
        "   Linkedin:\n",
        "   [linkedin_matteo_alberti](www.linkedin.com/in/matteo-alberti-695570110)"
      ]
    },
    {
      "cell_type": "markdown",
      "metadata": {
        "id": "DcyruL_M8QNM"
      },
      "source": [
        "# Summary\n",
        "\n",
        "- <font color=BE3315>**Brief Recap** </font> \n",
        "- <font color=C24024>**AutoEncoder [AE] Overview** </font> \n",
        "- <font color=CA4A2F>**Information Theory Notes** </font>\n",
        "\n",
        "- <font color=E15234>**[AE] AutoEncoder Variants** </font> \n",
        "\n",
        "- <font color=E35F2A>**Exercises** </font>"
      ]
    },
    {
      "cell_type": "markdown",
      "metadata": {
        "id": "KfERpSWN8QNM"
      },
      "source": [
        "# Brief Recap"
      ]
    },
    {
      "cell_type": "markdown",
      "metadata": {
        "id": "9jwPHklBSHxM"
      },
      "source": [
        "### Principal Component Analysis\n"
      ]
    },
    {
      "cell_type": "markdown",
      "metadata": {
        "id": "pyAL2InbV3VW"
      },
      "source": [
        "**Step-by-Step**"
      ]
    },
    {
      "cell_type": "code",
      "metadata": {
        "id": "PEA2BZXpV1hF"
      },
      "source": [
        "import tensorflow as tf\n",
        "import numpy as np\n",
        "import pandas as pd\n",
        "from sklearn.preprocessing import StandardScaler\n",
        "import matplotlib.pyplot as plt"
      ],
      "execution_count": 67,
      "outputs": []
    },
    {
      "cell_type": "code",
      "metadata": {
        "colab": {
          "base_uri": "https://localhost:8080/"
        },
        "id": "j4qkFaJacw3w",
        "outputId": "e4f772d6-515c-4507-b56f-9a923f6b8693"
      },
      "source": [
        "X = np.random.randint(4,size=(4,4));X"
      ],
      "execution_count": 54,
      "outputs": [
        {
          "output_type": "execute_result",
          "data": {
            "text/plain": [
              "array([[2, 2, 1, 2],\n",
              "       [1, 3, 0, 3],\n",
              "       [3, 1, 1, 0],\n",
              "       [3, 2, 3, 1]])"
            ]
          },
          "metadata": {
            "tags": []
          },
          "execution_count": 54
        }
      ]
    },
    {
      "cell_type": "code",
      "metadata": {
        "colab": {
          "base_uri": "https://localhost:8080/"
        },
        "id": "Qg1c6d2RX2Op",
        "outputId": "830f7e1b-27a1-454c-ecab-4a444575f6a0"
      },
      "source": [
        "#Standardize\n",
        "X_scal = StandardScaler().fit_transform(X); X_scal"
      ],
      "execution_count": 57,
      "outputs": [
        {
          "output_type": "execute_result",
          "data": {
            "text/plain": [
              "array([[-0.30151134,  0.        , -0.22941573,  0.4472136 ],\n",
              "       [-1.50755672,  1.41421356, -1.14707867,  1.34164079],\n",
              "       [ 0.90453403, -1.41421356, -0.22941573, -1.34164079],\n",
              "       [ 0.90453403,  0.        ,  1.60591014, -0.4472136 ]])"
            ]
          },
          "metadata": {
            "tags": []
          },
          "execution_count": 57
        }
      ]
    },
    {
      "cell_type": "markdown",
      "metadata": {
        "id": "Fs5pBxUrYsjU"
      },
      "source": [
        "*Covariance measures how two features vary with each other*\n",
        "\n",
        " For two feature vectors $x_{j}$  and $x_{k}$ the covariance between them $\\sigma_{jk}$ can be calculated using the following equation:\n",
        "\n",
        "<img src=\"https://www.oreilly.com/library/view/r-statistics-cookbook/9781789802566/assets/76a7f6ab-d154-4882-87cd-bfc020566108.png\" width=\"300\">\n",
        "\n",
        "\n",
        "<img src=\"https://freedomtowin.github.io/non_gauss_images/output_0.png\" width=\"300\">\n",
        "\n",
        "\n",
        "While our features were standardize :\n",
        "\n",
        "$$ \\sum = \\frac{1}{n-1} X^T X $$\n"
      ]
    },
    {
      "cell_type": "code",
      "metadata": {
        "colab": {
          "base_uri": "https://localhost:8080/"
        },
        "id": "y-MWeHaLYBbB",
        "outputId": "40b09d8f-180b-460a-d8be-a7d637b8bbbb"
      },
      "source": [
        "#Computing the covariance matrix\n",
        "\n",
        "cov = np.cov(X_scal); cov"
      ],
      "execution_count": 78,
      "outputs": [
        {
          "output_type": "execute_result",
          "data": {
            "text/plain": [
              "array([[ 0.11392956,  0.43994057, -0.2878807 , -0.26598942],\n",
              "       [ 0.43994057,  2.46198514, -1.615942  , -1.28598371],\n",
              "       [-0.2878807 , -1.615942  ,  1.19614926,  0.70767344],\n",
              "       [-0.26598942, -1.28598371,  0.70767344,  0.84429969]])"
            ]
          },
          "metadata": {
            "tags": []
          },
          "execution_count": 78
        }
      ]
    },
    {
      "cell_type": "code",
      "metadata": {
        "colab": {
          "base_uri": "https://localhost:8080/"
        },
        "id": "9BHbimAleBdE",
        "outputId": "4a63c978-87fc-4462-d595-74d51098ca60"
      },
      "source": [
        "cov.shape"
      ],
      "execution_count": 59,
      "outputs": [
        {
          "output_type": "execute_result",
          "data": {
            "text/plain": [
              "(4, 4)"
            ]
          },
          "metadata": {
            "tags": []
          },
          "execution_count": 59
        }
      ]
    },
    {
      "cell_type": "markdown",
      "metadata": {
        "id": "FIj7isOSb14K"
      },
      "source": [
        "### Eigendecomposition\n",
        "\n",
        "- The **eigenvectors** represent the principal components (**the directions of maximum variance**) of the covariance matrix\n",
        "\n",
        "- The **eigenvalues** are their corresponding **magnitude**\n",
        "\n",
        "\n",
        "*Eingenvectors and Eingenvalues are related :*\n",
        "\n",
        "$$Σv=λv$$\n",
        "\n"
      ]
    },
    {
      "cell_type": "code",
      "metadata": {
        "id": "rrv-qZsrYviC"
      },
      "source": [
        "# Eigendecomposition\n",
        "\n",
        "eigvals, eigvects = np.linalg.eig(cov)"
      ],
      "execution_count": 79,
      "outputs": []
    },
    {
      "cell_type": "code",
      "metadata": {
        "colab": {
          "base_uri": "https://localhost:8080/"
        },
        "id": "_ORXMVf-ch1I",
        "outputId": "3657fec4-92e3-41fa-826c-c8dd523c1c98"
      },
      "source": [
        "print(eigvals.shape, eigvects.shape)"
      ],
      "execution_count": 61,
      "outputs": [
        {
          "output_type": "stream",
          "text": [
            "(4,) (4, 4)\n"
          ],
          "name": "stdout"
        }
      ]
    },
    {
      "cell_type": "code",
      "metadata": {
        "colab": {
          "base_uri": "https://localhost:8080/"
        },
        "id": "KdRXt_S4eGXQ",
        "outputId": "e266567e-1716-4431-f97c-31db3fe36d09"
      },
      "source": [
        "eigvals"
      ],
      "execution_count": 80,
      "outputs": [
        {
          "output_type": "execute_result",
          "data": {
            "text/plain": [
              "array([ 4.28435889e+00,  2.94681396e-01,  3.73233718e-02, -5.81049032e-17])"
            ]
          },
          "metadata": {
            "tags": []
          },
          "execution_count": 80
        }
      ]
    },
    {
      "cell_type": "code",
      "metadata": {
        "colab": {
          "base_uri": "https://localhost:8080/"
        },
        "id": "iwdrRkJVeIKS",
        "outputId": "ead88c0a-051f-4701-e0a4-d626f992ef10"
      },
      "source": [
        "eigvects"
      ],
      "execution_count": 81,
      "outputs": [
        {
          "output_type": "execute_result",
          "data": {
            "text/plain": [
              "array([[ 0.13967687,  0.10937857, -0.84765954,  0.5       ],\n",
              "       [ 0.75703446,  0.00671428,  0.42053983,  0.5       ],\n",
              "       [-0.50004513,  0.64240075,  0.29542537,  0.5       ],\n",
              "       [-0.3966662 , -0.75849359,  0.13169434,  0.5       ]])"
            ]
          },
          "metadata": {
            "tags": []
          },
          "execution_count": 81
        }
      ]
    },
    {
      "cell_type": "markdown",
      "metadata": {
        "id": "2_YcnzrpeY_i"
      },
      "source": [
        "### Select the number of components\n",
        "\n",
        "Sort EingenVects based on Magnitude of our EigenVals"
      ]
    },
    {
      "cell_type": "code",
      "metadata": {
        "id": "63NQV6v4eZIi"
      },
      "source": [
        "idx = np.argsort(eigvals, axis=0)[::-1]\n",
        "sorted_eig_vectors = eigvects[:, idx]"
      ],
      "execution_count": 82,
      "outputs": []
    },
    {
      "cell_type": "markdown",
      "metadata": {
        "id": "LV3NpJ-YewjV"
      },
      "source": [
        "**How can we choose the number of components?**\n",
        "\n",
        "*plotting the cumulative sum of the eigenvalues*\n",
        "\n",
        "$$ \\frac{λ_j}{\\sum_{j=1}^d λ_j} $$\n",
        "\n"
      ]
    },
    {
      "cell_type": "code",
      "metadata": {
        "colab": {
          "base_uri": "https://localhost:8080/",
          "height": 279
        },
        "id": "HfQL7Ci7e0hM",
        "outputId": "933c58fd-697b-4b9e-a7bc-dd79dca83beb"
      },
      "source": [
        "cumsum = np.cumsum(eigvals[idx]) / np.sum(eigvals[idx])\n",
        "xint = range(1, len(cumsum) + 1)\n",
        "plt.plot(xint, cumsum)\n",
        "plt.xlabel(\"Number of components\")\n",
        "plt.ylabel(\"Cumulative explained variance\")\n",
        "plt.xticks(xint)\n",
        "plt.xlim(1, 4, 1)\n",
        "plt.show()"
      ],
      "execution_count": 83,
      "outputs": [
        {
          "output_type": "display_data",
          "data": {
            "image/png": "[encoded data removed]",
            "text/plain": [
              "<Figure size 432x288 with 1 Axes>"
            ]
          },
          "metadata": {
            "tags": [],
            "needs_background": "light"
          }
        }
      ]
    },
    {
      "cell_type": "markdown",
      "metadata": {
        "id": "FTcCRGHkffAT"
      },
      "source": [
        "### Transform data into the subspace\n",
        "\n",
        "$$Z=XW$$\n",
        "\n",
        "\n",
        "\n"
      ]
    },
    {
      "cell_type": "code",
      "metadata": {
        "colab": {
          "base_uri": "https://localhost:8080/"
        },
        "id": "vBqT5MLKfx6p",
        "outputId": "935512b3-1366-482b-9273-d86c499a1a30"
      },
      "source": [
        "Z = np.dot(X_scal, sorted_eig_vectors[:, :2]); Z"
      ],
      "execution_count": 84,
      "outputs": [
        {
          "output_type": "execute_result",
          "data": {
            "text/plain": [
              "array([[-0.10479046, -0.51956436],\n",
              "       [ 0.90144513, -1.9099091 ],\n",
              "       [-0.29736414,  0.95969031],\n",
              "       [-0.49929054,  1.46978315]])"
            ]
          },
          "metadata": {
            "tags": []
          },
          "execution_count": 84
        }
      ]
    },
    {
      "cell_type": "markdown",
      "metadata": {
        "id": "zZUzZ3Wv8QNM"
      },
      "source": [
        "## Autoencoder Overview\n",
        "\n",
        "*Autoencoders are a specific type of feedforward neural networks where the input is the same as the output.*\n",
        "\n",
        "![](https://miro.medium.com/max/700/1*MMRDQ4g3QvQNc7iJsKM9pg@2x.png)\n",
        "\n",
        "More technically, autoencoders are unsupervised neural networks that aim to copy their inputs to their outputs. They work by compressing the input into a **latent-space representation**, and then reconstructing the output from this representation. \n",
        "\n",
        "\n",
        "![](https://hackernoon.com/hn-images/1*8ixTe1VHLsmKB3AquWdxpQ.png)\n",
        "\n",
        "- The **latent vector** is the essence of the autoencoder;\n",
        "\n",
        "- The encoder and the decoder could be composed by any kind of layers. We will se a CNN-autoencoder;\n",
        "\n",
        "\n",
        "\n",
        "**What we need?**\n",
        "\n",
        "- An encoding method\n",
        "- A Decoding method\n",
        "- Loss function *to compare the output with the target*\n"
      ]
    },
    {
      "cell_type": "markdown",
      "metadata": {
        "id": "_8kWzQUIiijj"
      },
      "source": [
        "## Introduce the main layers"
      ]
    },
    {
      "cell_type": "markdown",
      "metadata": {
        "id": "uxDEAwgAic_j"
      },
      "source": [
        "\n",
        "\n",
        "**Encoder:** This is the part of the network that compresses the input into a latent-space representation. It can be represented by an encoding function \n",
        "\n",
        "### $$h=f(x).$$\n",
        "\n",
        "**Decoder**: This part aims to reconstruct the input from the latent space representation. It can be represented by a decoding function \n",
        "\n",
        "### $$r=g(h).$$\n",
        "\n",
        "\n",
        "The autoencoder as a whole can thus be described by the function \n",
        "\n",
        "### $$g(f(x)) = r.$$ \n",
        "\n",
        "where $r$ is called **reconstruction**. By training the autoencoder to copy the input to the output ($r$ as close as the original input $x$), the latent representation $h$ will take on useful properties. For instance, if the dimension of $h$ is smaller than $x$ we can construct a representation of the input which is compressed. This forces the autoencoder to learn the most salient features of the training data (a sort of PCA).\n",
        "\n",
        "References:\n",
        "- [Gradient-based learning applied to document recognition](http://yann.lecun.com/exdb/publis/pdf/lecun-01a.pdf). Y. LeCun, L. Bottou, Y. Bengio, and P. Haffner. Proceedings of the IEEE, 86(11):2278-2324, November 1998.\n"
      ]
    },
    {
      "cell_type": "markdown",
      "metadata": {
        "id": "-RGxyLb_jJzr"
      },
      "source": [
        "## Let's code together a simple autoencoder!\n"
      ]
    },
    {
      "cell_type": "code",
      "metadata": {
        "id": "nvZ8uI6QjRka"
      },
      "source": [
        "import tensorflow as tf"
      ],
      "execution_count": 88,
      "outputs": []
    },
    {
      "cell_type": "code",
      "metadata": {
        "colab": {
          "base_uri": "https://localhost:8080/"
        },
        "id": "s5GSVEKsjJQc",
        "outputId": "78db7beb-8d05-445f-b7aa-6ed477a4fb1e"
      },
      "source": [
        "input_size = 784\n",
        "hidden_size = 128\n",
        "code_size = 32\n",
        "\n",
        "#Encoder\n",
        "input_img = tf.keras.Input(shape=(input_size,))\n",
        "hidden_1 = tf.keras.layers.Dense(hidden_size, activation='relu')(input_img)\n",
        "\n",
        "#Encoding Dim\n",
        "code = tf.keras.layers.Dense(code_size, activation='relu')(hidden_1)\n",
        "\n",
        "#Decoder\n",
        "hidden_2 = tf.keras.layers.Dense(hidden_size, activation='relu')(code)\n",
        "output_img = tf.keras.layers.Dense(input_size, activation='sigmoid')(hidden_2)\n",
        "\n",
        "autoencoder = tf.keras.Model(input_img, output_img)\n",
        "autoencoder.compile(optimizer='adam', loss='binary_crossentropy')\n",
        "\n",
        "autoencoder.summary()"
      ],
      "execution_count": 89,
      "outputs": [
        {
          "output_type": "stream",
          "text": [
            "Model: \"functional_1\"\n",
            "_________________________________________________________________\n",
            "Layer (type)                 Output Shape              Param #   \n",
            "=================================================================\n",
            "input_1 (InputLayer)         [(None, 784)]             0         \n",
            "_________________________________________________________________\n",
            "dense (Dense)                (None, 128)               100480    \n",
            "_________________________________________________________________\n",
            "dense_1 (Dense)              (None, 32)                4128      \n",
            "_________________________________________________________________\n",
            "dense_2 (Dense)              (None, 128)               4224      \n",
            "_________________________________________________________________\n",
            "dense_3 (Dense)              (None, 784)               101136    \n",
            "=================================================================\n",
            "Total params: 209,968\n",
            "Trainable params: 209,968\n",
            "Non-trainable params: 0\n",
            "_________________________________________________________________\n"
          ],
          "name": "stdout"
        }
      ]
    },
    {
      "cell_type": "markdown",
      "metadata": {
        "id": "NNtgoDnh8QNM"
      },
      "source": [
        "## <h1><center>  Information Theory Background \n",
        "\n",
        "\n",
        "### Self-Information\n",
        "\n",
        "The idea behind self-information is the following\n",
        "\n",
        "* **if an event always occurs, we associate it with a smaller amount of information. It will not suprise us!**\n",
        "* **On the other side, a rare event is associated with a huge amount of information. It will suprise us!**\n",
        "\n",
        "I am not surprise to see the sunrise every morning (likely event). Instead,  I would be really suprised if tomorriw the Sun will not rise (unlikely event). This amount of surprise or self-information of the event $x$ is quantified by\n",
        "\n",
        "$$I(x) = - \\log p(x),$$\n",
        "\n",
        "where $p(x)$ is the probability of the event $x$. If $p(x)=1$, then self-info is zero. A rare event instead has a huge surpise factor.\n",
        "\n",
        "### Shannon Entropy \n",
        "\n",
        "In terms of self-info, **Shannon Entropy** is the is the average self-information (**expected value**) over all possible values of X.\n",
        "The entropy for a probability $p(x)$ distribution is\n",
        "\n",
        "$$ S = - \\sum_i p(x_i) \\log p(x_i),$$\n",
        "\n",
        "where we assume we know the probability $p$ for each outcome $i$. If we use $log_2$  for our calculation we can **interpret entropy as *the minimum number of bits it would take us to encode our information*.**\n",
        "\n",
        "For continous variables, we can use the integral form\n",
        "\n",
        "$$ S = - \\int  p(x) \\log p(x) \\, dx,$$\n",
        "\n",
        "where now $p(x)$ is take the role of a **probability density function** (PDF). Take in mind that a broad probability density has higher entropy than an narrowed one (think about Gaussian distribution vs delta Dirac, which has $S=0$).\n",
        "\n",
        "In both discrete and continous formulation, we are computing the expectation (i.e. average) of the negative log-probability (i.e. self-info) which is the theoretical minimum encoding size of the information from the event $x$. The same formula is usually written as\n",
        "\n",
        "$$S = \\mathbb E _{\\, x \\sim p} \\left[ -\\log p(x) \\right],$$\n",
        "\n",
        "where $x \\sim p$ means that we calculate the expectation with the probability distribution $p$."
      ]
    },
    {
      "cell_type": "markdown",
      "metadata": {
        "id": "ZJRv-SzQ8QNM"
      },
      "source": [
        "Let's say we have to pass a message about what drink Matteo would take during the week. In general, Matteo loves *Puer Tea* , Green Tea, black Tea and Oolong Tea.\n",
        "\n",
        "![Puer Tea](https://c.ndtvimg.com/sc8uey7at2h_puerh-tea_625x300.jpg) \n",
        "\n",
        "-----------------------\n",
        "*Small Recap :*\n",
        "\n",
        "- Black Tea : Twinings (like) - you can eat some biscuits\n",
        "- Green Tea and Oolong : really good if you wanna relax (evening)\n",
        "- Puer : only in special occasions (take your time)\n",
        "\n",
        "-----------------------\n",
        "$$$$\n",
        "\n",
        "\n",
        "Usually Matteo has not preferences about the tea type (*not real*) the probability distribution of his choice is: \n",
        "\n",
        "$$P(\\text Puer Tea ) =  P(\\text Green Tea ) = P(\\text black Tea ) = P(\\text Oolong Tea ) = 0.25,$$\n",
        "\n",
        "while the corresponding entropy\n",
        "\n",
        "$$S = - \\frac{1}{4} \\log \\frac{1}{4} - \\frac{1}{4} \\log \\frac{1}{4} - \\frac{1}{4} \\log \\frac{1}{4} - \\frac{1}{4} \\log \\frac{1}{4} = 2$$\n",
        "\n",
        "In the morning, he usually is late and wanna have breakfast : \n",
        "\n",
        "$$P(\\text Puer Tea ) = 0.125,\\;  P(\\text Green Tea ) =0.125,\\;  P(\\text black Tea ) = 0.5,\\; P(\\text  Oolong Tea ) = 0.25,$$\n",
        "\n",
        "while the corresponding entropy\n",
        "\n",
        "$$S = - \\frac{1}{8} \\log \\frac{1}{8} - \\frac{1}{8} \\log \\frac{1}{8} - \\frac{1}{2} \\log \\frac{1}{2} - \\frac{1}{4} \\log \\frac{1}{4} = 1.75$$\n",
        "\n",
        "\n",
        "On Sunday late afternoon, Matteo often looks for some relax on his sofa\n",
        "\n",
        "$$P(\\text Puer Tea ) = 0.012,\\;  P(\\text Green Tea ) =0.52,\\;  P(\\text black Tea ) = 0.018,\\; P(\\text  Oolong Tea ) = 0.45,$$\n",
        "\n",
        "and the corresponding entropy\n",
        "\n",
        "$$S = - 0.012 \\log 0.012 - 0.52 \\log 0.52 - 0.018 \\log 0.018 - 0.45 \\log 0.45 = 1.365$$"
      ]
    },
    {
      "cell_type": "markdown",
      "metadata": {
        "id": "SeX6vEH28QNN"
      },
      "source": [
        "**If entropy is high (encoding size $log_2 p(x)$ is big on average)**, **it means we have many message types with small and almost equal probabilities**. Hence, every time a new message arrives, you would expect a different type than previous messages. You may see it as a disorder or uncertainty or unpredictability.\n",
        "\n",
        "On the contrary, **when a message has much smaller probability than other message, it appears as a surprise because on average you would expect other more frequently sent message types**. Also, a rare message type has more information than more frequent message types because it eliminates a lot of other probabilities and tells us more specific information.\n",
        "\n",
        "If the entropy is high, the average encoding size is significant which means each message tends to have more (specific) information. Again, this is why high entropy is associated with disorder, uncertainty, surprise, unpredictability, amount of information. The more random a message is, the more information will be gained from decoding the message.\n",
        "\n",
        "**Low entropy means that most of the times we are receiving the more predictable information which means less disorder**, less uncertainty, less surprise, more predictability and less (specific) information. "
      ]
    },
    {
      "cell_type": "markdown",
      "metadata": {
        "id": "wUPRSl8j8QNN"
      },
      "source": [
        "### Cross Entropy\n",
        "\n",
        "**Suppose to have two distributions**, the true one $p(x)$ and the estimated $q(x)$. In the language of neural networks, $p(x)$ would be the grond truth (labels in one hot-encoding) and $q(x)$ the outcome of the net, i.e. the one that your machine learning algorithm is trying to match. **Cross entropy is a mathematical tool for comparing two probability distributions** $p(x)$ and $q(x)$ and it is expressed by the formula \n",
        "\n",
        "$$ H (p,q) = - \\int p(x) \\log q(x)\\,dx.$$\n",
        "\n",
        "If $\\log$ is in base $2$, then cross entropy measures the **number of bits you will need encoding symbols** from $p$ using the wrong distribution $q$. Subtracting to cross entropy the entropy of $p$, you are counting the cost in terms of bits of using the wrong distribution $q$ (this somehow will be KL-divergence). "
      ]
    },
    {
      "cell_type": "code",
      "metadata": {
        "id": "XtWvpW_L8QNN",
        "outputId": "ba8598ef-434f-4c63-9d4e-b19137261146"
      },
      "source": [
        "# Import scipy and numpy module\n",
        "import scipy.stats\n",
        "import numpy as np\n",
        "\n",
        "# Create an array\n",
        "a=np.array([1,1,2,3,1,3,4,2,5,6,3,2,4,3])\n",
        "\n",
        "\n",
        "# Compute probability distribution\n",
        "a_pdf=scipy.stats.norm.pdf(a)\n",
        "\n",
        "# Calculate the entropy of a distribution for given probability values.\n",
        "entropy = scipy.stats.entropy(a_pdf) # get entropy from probability values\n",
        "print(\"Entropy: \",entropy)"
      ],
      "execution_count": null,
      "outputs": [
        {
          "output_type": "stream",
          "text": [
            "Entropy:  1.6688066853941022\n"
          ],
          "name": "stdout"
        }
      ]
    },
    {
      "cell_type": "markdown",
      "metadata": {
        "id": "wIcbz1cG8QNO"
      },
      "source": [
        "### Kullback-Leibler Divergence\n",
        "\n",
        "Kullback–Leibler divergence is the relative entropy of two probability distributions. It measures the distance(similarity or dissimilarity) of one distribution from another reference probability distribution. 0 Value of Kullback–Leibler divergence indicates that both distributions are identical. It can be expressed as : \n",
        "\n",
        "$$D_{KL}(h || g) = - \\sum_i h(x_i) (\\log h(x) - \\log g(x)) = - \\sum_i h(x_i) \\log \\frac{h(x)}{g(x)}$$ \n",
        "\n",
        "- **not a measure : it's asymmetric**\n",
        "\n",
        "\n",
        "In the variational autoencoder loss function, the KL-divergence is used to force the distribution of latent variables  q(z|x)  to be a normal distribution  n(z)  so that we can sample latent variables from the normal distribution. As such, the KL-divergence is included in the loss function to improve the similarity between the distribution of latent variables and the normal distribution"
      ]
    },
    {
      "cell_type": "code",
      "metadata": {
        "id": "kdgxG4yI8QNO",
        "outputId": "302efd62-ee3a-47f2-899c-127a1b3a0665"
      },
      "source": [
        "# Import scipy.stats and numpy module\n",
        "import scipy.stats\n",
        "import numpy as np\n",
        "\n",
        "# Create numpy arrays\n",
        "a=np.array([1,1,2,3,1,3,4,2,5,6,3,2,4,3])\n",
        "b=np.array([1,1,3,4,2,4,5,2,5,6,3,2,4,3])\n",
        "\n",
        "# Compute probability distribution\n",
        "a_pdf=scipy.stats.norm.pdf(a)\n",
        "b_pdf=scipy.stats.norm.pdf(b)\n",
        "\n",
        "# compute relative entropy or KL Divergence\n",
        "kl_div=scipy.stats.entropy(a_pdf,b_pdf)\n",
        "\n",
        "print(\"KL Divergence: \",kl_div)"
      ],
      "execution_count": null,
      "outputs": [
        {
          "output_type": "stream",
          "text": [
            "KL Divergence:  0.26732496641464365\n"
          ],
          "name": "stdout"
        }
      ]
    },
    {
      "cell_type": "markdown",
      "metadata": {
        "id": "E6X3topuu8nY"
      },
      "source": [
        "## AutoEncoders vs PCA\n",
        "\n",
        "*Training an autoencoder with one dense encoder layer and one dense decoder layer and linear activation is essentially equivalent to performing PCA*\n",
        "\n",
        "- An autoencoder could let you make use of pre trained layers from another model, to apply transfer learning to prime the encoder/decoder.\n",
        "\n",
        "![](https://miro.medium.com/max/700/1*P7-YLUAwXH6OI8fxh17gpA.png)"
      ]
    },
    {
      "cell_type": "markdown",
      "metadata": {
        "id": "HzZWL1-NnTS0"
      },
      "source": [
        "## AutoEncoder variants"
      ]
    },
    {
      "cell_type": "markdown",
      "metadata": {
        "id": "udN-fhYqnnkO"
      },
      "source": [
        "### Sparse AutoEncoder\n",
        "\n",
        "*We can regularize the autoencoder by using a sparsity constraint such that only a fraction of the nodes would have nonzero values, called active nodes.*\n",
        "\n",
        "\n",
        "![](https://miro.medium.com/max/399/1*kj2xw4MJLNOKZ_-qLTbDPQ.png)\n",
        "\n",
        "$$$$\n",
        "\n",
        "-------------------------------\n",
        "**L2 & L1 regularization**\n",
        "\n",
        "*These update the general cost function by adding another term known as the regularization term.*\n",
        "\n",
        "*Due to the addition of this regularization term, the values of weight matrices decrease because it assumes that a neural network with smaller weight matrices leads to simpler models.*\n",
        "\n",
        "**Therefore, it will also reduce overfitting to quite an extent.**\n",
        "\n",
        "*An Example :*\n",
        "\n",
        "![](https://cdn.analyticsvidhya.com/wp-content/uploads/2018/04/Screen-Shot-2018-04-04-at-1.59.54-AM.png)\n",
        "\n",
        "---------------------------------------------\n",
        "\n",
        "\n",
        "*Similar to Dropout*"
      ]
    },
    {
      "cell_type": "code",
      "metadata": {
        "colab": {
          "base_uri": "https://localhost:8080/"
        },
        "id": "0pheHefAnTb9",
        "outputId": "f0529f03-6123-473f-e512-49d68526d7f3"
      },
      "source": [
        "#Encoder\n",
        "input_img = tf.keras.Input(shape=(input_size,))\n",
        "hidden_1 = tf.keras.layers.Dense(hidden_size, activation='relu', activity_regularizer=tf.keras.regularizers.L1(10e-6))(input_img)\n",
        "\n",
        "#Encoding Dim\n",
        "code = tf.keras.layers.Dense(code_size, activation='relu', activity_regularizer=tf.keras.regularizers.L1(10e-6))(hidden_1)\n",
        "\n",
        "#Decoder\n",
        "hidden_2 = tf.keras.layers.Dense(hidden_size, activation='relu', activity_regularizer=tf.keras.regularizers.L1(10e-6))(code)\n",
        "output_img = tf.keras.layers.Dense(input_size, activation='sigmoid', activity_regularizer=tf.keras.regularizers.L1(10e-6))(hidden_2)\n",
        "\n",
        "sparse_autoencoder = tf.keras.Model(input_img, output_img)\n",
        "sparse_autoencoder.compile(optimizer='adam', loss='binary_crossentropy')\n",
        "\n",
        "sparse_autoencoder.summary()"
      ],
      "execution_count": 92,
      "outputs": [
        {
          "output_type": "stream",
          "text": [
            "Model: \"functional_3\"\n",
            "_________________________________________________________________\n",
            "Layer (type)                 Output Shape              Param #   \n",
            "=================================================================\n",
            "input_4 (InputLayer)         [(None, 784)]             0         \n",
            "_________________________________________________________________\n",
            "dense_4 (Dense)              (None, 128)               100480    \n",
            "_________________________________________________________________\n",
            "dense_5 (Dense)              (None, 32)                4128      \n",
            "_________________________________________________________________\n",
            "dense_6 (Dense)              (None, 128)               4224      \n",
            "_________________________________________________________________\n",
            "dense_7 (Dense)              (None, 784)               101136    \n",
            "=================================================================\n",
            "Total params: 209,968\n",
            "Trainable params: 209,968\n",
            "Non-trainable params: 0\n",
            "_________________________________________________________________\n"
          ],
          "name": "stdout"
        }
      ]
    },
    {
      "cell_type": "markdown",
      "metadata": {
        "id": "c151-YQkrcmM"
      },
      "source": [
        "### Stacked Autoencoders\n",
        "\n",
        "$$$$\n",
        "\n",
        "-------------------------------------------\n",
        "\n",
        "<img src=\"https://miro.medium.com/max/700/1*7H9VQlN94-wv7Ianqt6GZg.png\" width=500\\>\n",
        "\n",
        "\n",
        "*Nothing to say. Just a deeper version : ANN --> MLP*"
      ]
    },
    {
      "cell_type": "markdown",
      "metadata": {
        "id": "BZC5LRJmsKNT"
      },
      "source": [
        "### Variational AutoEncoders\n",
        "\n",
        "\n",
        "$$$$\n",
        "\n",
        "-------------------------------------------\n",
        "\n",
        "![](https://www.analyticsindiamag.com/wp-content/uploads/2019/08/vae-768x474.png)\n",
        "\n",
        "-------------------------------------------\n",
        "\n",
        "$$$$\n",
        "\n",
        "**Basic Idea**\n",
        "\n",
        "*Instead of mapping an input to fixed vector, input is mapped to a distribution*\n",
        "\n",
        "**bottleneck vector** is replaced with two different vectors one representing the **mean** of the distribution and the other representing the **standard deviation** of the distribution.\n",
        "\n",
        "*We have to define a new Loss Function :*\n",
        "\n",
        "$$ l​oss​​(θ,ϕ)=−E​z∼q​θ​​(z∣x​i​​)​​[logp​ϕ​​(x​i​​∣z)]+KL(q​θ​​(z∣x​i​​)∣∣p(z)) $$\n",
        "\n",
        "*Where :*\n",
        "\n",
        "- $ q​θ​​(z∣x​i​​) : $ Reconstruction Loss\n",
        "- $ [logp​ϕ​​(x​i​​∣z)] :$ Regularizer\n",
        "- $ KL(q​θ​​(z∣x​i​​)∣∣p(z) : $ KL divergence (encoder distribution vs $p(z)$\n",
        "  - divergence measures how much information is lost when using q to represent p"
      ]
    },
    {
      "cell_type": "markdown",
      "metadata": {
        "id": "1UkOid2pvarJ"
      },
      "source": [
        "# Domain Application"
      ]
    },
    {
      "cell_type": "markdown",
      "metadata": {
        "id": "TsKA_bfK8QNO"
      },
      "source": [
        "##  [Computer Vision - Image Recontruction]\n",
        "\n",
        "      Choose and Load a dataset (mnist, cifar10, cifar100, fashion_mnist)"
      ]
    },
    {
      "cell_type": "code",
      "metadata": {
        "colab": {
          "base_uri": "https://localhost:8080/"
        },
        "id": "dokPyJryJeP4",
        "outputId": "1ec34488-bd2d-44f4-ceb0-a022c61dfa71"
      },
      "source": [
        "(x_train, y_train), (x_test, y_test) = tf.keras.datasets.fashion_mnist.load_data()\n",
        "\n",
        "x_train = x_train.astype('float32') / 255.\n",
        "x_test = x_test.astype('float32') / 255.\n",
        "\n",
        "print (x_train.shape)\n",
        "print (x_test.shape)"
      ],
      "execution_count": 94,
      "outputs": [
        {
          "output_type": "stream",
          "text": [
            "(60000, 28, 28)\n",
            "(10000, 28, 28)\n"
          ],
          "name": "stdout"
        }
      ]
    },
    {
      "cell_type": "markdown",
      "metadata": {
        "id": "v7PBYh9dvqir"
      },
      "source": [
        "### Apply Simple Autoencoder and reconstruct the pictures"
      ]
    },
    {
      "cell_type": "code",
      "metadata": {
        "id": "74OJsimVwFCu"
      },
      "source": [
        ""
      ],
      "execution_count": null,
      "outputs": []
    },
    {
      "cell_type": "markdown",
      "metadata": {
        "id": "sr-5BKr3wEid"
      },
      "source": [
        "### Apply Convolutional Autoencoder and reconstruct the pictures"
      ]
    },
    {
      "cell_type": "code",
      "metadata": {
        "id": "ZTJ5EhrqwGyq"
      },
      "source": [
        ""
      ],
      "execution_count": null,
      "outputs": []
    },
    {
      "cell_type": "markdown",
      "metadata": {
        "id": "ZZoKTxiYxG2P"
      },
      "source": [
        "##  [Tabular Data - Feature Extractor]\n",
        "\n",
        "      Open your previous exercise Notebook (Day2_exercise.ipynb) and test a basic autoencoder in the following way :\n",
        "\n",
        "      - Reduce your data with PCA\n",
        "      - Reduce your data with AE\n",
        "\n",
        "      Apply Custering / Classification/ Regression from this two projected version and evaluate performances depending on your dataset type\n",
        "\n",
        "\n",
        "      **** Tips : I need some help!   \n"
      ]
    },
    {
      "cell_type": "code",
      "metadata": {
        "id": "oMLh_sDVxG_w"
      },
      "source": [
        "# load your data X and make preprocessing (like scaling)\n",
        "\n",
        "# apply PCA / AE like :\n",
        "\n",
        "pca = PCA(0.9).fit(X)\n",
        "X_projected = pca.transform(X)\n",
        "\n",
        "# Now \"X_projected\" is my new set of features! Check multicollinerity\n",
        "\n",
        "# for clustering\n",
        "kmeans = KMeans(n_clusters=10,init='k-means++',max_iter=300, n_init=12, random_state=0).fit(X_projected) # just an example\n",
        "\n",
        "# for classification, Please develop a Neural Network with Dense!\n",
        "log_regressor=LogisticRegression(multi_class='multinomial') \n",
        "log_regressor.fit(X_projected, Y_train)\n",
        "\n",
        "# for regression, Please develop a Neural Network with Dense!\n",
        "lin_regressor=LinearRegression()\n",
        "lin_regressor.fit(X_projected, Y_train)"
      ],
      "execution_count": null,
      "outputs": []
    }
  ]
}