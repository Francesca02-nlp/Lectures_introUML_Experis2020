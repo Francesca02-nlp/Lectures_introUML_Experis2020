{
  "nbformat": 4,
  "nbformat_minor": 0,
  "metadata": {
    "colab": {
      "name": "Day1_UML.ipynb",
      "provenance": [],
      "collapsed_sections": [],
      "include_colab_link": true
    },
    "kernelspec": {
      "display_name": "Python 3",
      "language": "python",
      "name": "python3"
    },
    "language_info": {
      "codemirror_mode": {
        "name": "ipython",
        "version": 3
      },
      "file_extension": ".py",
      "mimetype": "text/x-python",
      "name": "python",
      "nbconvert_exporter": "python",
      "pygments_lexer": "ipython3",
      "version": "3.8.5"
    }
  },
  "cells": [
    {
      "cell_type": "markdown",
      "metadata": {
        "id": "view-in-github",
        "colab_type": "text"
      },
      "source": [
        "<a href=\"https://colab.research.google.com/github/matteoalberti/Lectures_introUML_Experis2020/blob/main/Day1_UML.ipynb\" target=\"_parent\"><img src=\"https://colab.research.google.com/assets/colab-badge.svg\" alt=\"Open In Colab\"/></a>"
      ]
    },
    {
      "cell_type": "markdown",
      "metadata": {
        "id": "NEnwnRhNRRyx"
      },
      "source": [
        "# **Welcome Again!**\n",
        "\n",
        "#### Introduction to Unsupervised Machine Learning Pt.1 : CUSTERING!\n",
        "\n",
        "\n",
        "\n",
        "#### **Lecturer :** Matteo Alberti\n",
        "\n",
        "*Contacts :* https://www.linkedin.com/in/matteo-alberti-170493/\n"
      ]
    },
    {
      "cell_type": "markdown",
      "metadata": {
        "id": "sibE43BKRVLV"
      },
      "source": [
        "## Introduction to Supervised and Unsupervised Machine Learning\n",
        "\n",
        "![](https://www.diegocalvo.es/wp-content/uploads/2018/09/machine-learning-classification.png)\n",
        "\n",
        "\n"
      ]
    },
    {
      "cell_type": "markdown",
      "metadata": {
        "id": "typ2RQeKPubU"
      },
      "source": [
        "# Clustering\n",
        "\n",
        "Cluster analysis or clustering is the task of grouping a set of objects in such a way that objects in the same group (called a cluster) are more similar (in some sense) to each other than to those in other groups (clusters).\n",
        "\n",
        "![](https://matteucci.faculty.polimi.it/Clustering/tutorial_html/images/clustering.gif)\n",
        "\n",
        "In this case we easily identify the 4 clusters into which the data can be divided; the similarity criterion is **distance**: two or more objects belong to the same cluster if they are “close” according to a given distance (in this case geometrical distance). This is called **distance-based clustering**."
      ]
    },
    {
      "cell_type": "markdown",
      "metadata": {
        "id": "my34dVfyuoQY"
      },
      "source": [
        "\n",
        "\n",
        "## Clustering vs Classification\n",
        "Before starting our discussion on k-means clustering, I would like point out the difference between clustering and classification.\n",
        "\n",
        "- Samples in a classification task have labels. Each data point is classified according to some measurements. Classification algorithms try to model the relationship between measurements (features) on samples and their assigned class. Then the model predicts the class of new samples.\n",
        "\n",
        "- Samples in clustering do not have labels. We expect the model to find structures in the data set so that similar samples can be grouped into clusters. We basically ask the model to label samples.\n"
      ]
    },
    {
      "cell_type": "markdown",
      "metadata": {
        "id": "woOVLI2tfDa0"
      },
      "source": [
        "#### Load Packages"
      ]
    },
    {
      "cell_type": "code",
      "metadata": {
        "id": "zCyEEfQxfCO7"
      },
      "source": [
        "#base\n",
        "import pandas as pd\n",
        "import numpy as np \n",
        "\n",
        "#preprocessing\n",
        "from sklearn.preprocessing import StandardScaler\n",
        "\n",
        "#plot\n",
        "import matplotlib.pyplot as plt\n",
        "from sklearn.datasets import make_blobs\n",
        "from mpl_toolkits.mplot3d import Axes3D\n",
        "\n",
        "#models\n",
        "from sklearn.cluster import KMeans\n"
      ],
      "execution_count": 18,
      "outputs": []
    },
    {
      "cell_type": "markdown",
      "metadata": {
        "id": "yGeb9aRMn34o"
      },
      "source": [
        "# DISTANCE BASED CLUSTERING : KMeans\n",
        "\n",
        "K-means clustering aims to partition data into k clusters in a way that data points in the same cluster are **similar** (*determined by distance*) and data points in the different clusters are farther apart.\n",
        "\n",
        "- There are many methods to measure the distance. \n",
        "\n",
        "\n",
        "Euclidean distance for example comes from **minkowski distance**\n",
        "\n",
        "![](https://rittikghosh.com/images/min.png)\n",
        "\n",
        "\n",
        "![](https://www.deeplearningitalia.com/wp-content/uploads/2018/12/ecuation-26.png)\n",
        "\n",
        "\n",
        "\n"
      ]
    },
    {
      "cell_type": "markdown",
      "metadata": {
        "id": "3YzaEKtXvRs5"
      },
      "source": [
        "### Let's try with syntetic data\n",
        "\n",
        "\n",
        "*K-means clustering tries to minimize distances within a cluster and maximize the distance between different clusters.*"
      ]
    },
    {
      "cell_type": "code",
      "metadata": {
        "colab": {
          "base_uri": "https://localhost:8080/",
          "height": 264
        },
        "id": "3YNVUTJEvSKI",
        "outputId": "2dee97a9-fd13-4a95-a446-42f237756d1d"
      },
      "source": [
        "\n",
        "X_, y_ = make_blobs(n_samples = 200, centers=4, cluster_std = 0.5, random_state = 0)\n",
        "plt.scatter(X_[:, 0], X_[:, 1], s=50)\n",
        "plt.show()"
      ],
      "execution_count": 13,
      "outputs": [
        {
          "output_type": "display_data",
          "data": {
            "image/png": "[encoded data removed]",
            "text/plain": [
              "<Figure size 432x288 with 1 Axes>"
            ]
          },
          "metadata": {
            "tags": [],
            "needs_background": "light"
          }
        }
      ]
    },
    {
      "cell_type": "markdown",
      "metadata": {
        "id": "NhNpNUyCvy2P"
      },
      "source": [
        "\n",
        "\n",
        "\n",
        "***Introduction to Pseudocode : Kmeans***\n",
        "\n",
        "![](https://www.cms.waikato.ac.nz/~abifet/book/images/Fig9-1.png)\n",
        "\n"
      ]
    },
    {
      "cell_type": "markdown",
      "metadata": {
        "id": "NEiao4_9bgcB"
      },
      "source": [
        "**Summarize**\n",
        "\n",
        "After number of clusters are determined, it works by executing the following steps:\n",
        "\n"
      ]
    },
    {
      "cell_type": "markdown",
      "metadata": {
        "id": "eZLsXjZoVCZU"
      },
      "source": [
        "\n",
        "\n",
        "\n",
        "Randomly select centroids (center of cluster) for each cluster.\n",
        "\n",
        "![](https://healthcare.ai/wp-content/uploads/2017/07/Picture2.png)\n",
        "\n",
        "Calculate the distance of all data points to the centroids.\n",
        "\n",
        "![](https://healthcare.ai/wp-content/uploads/2017/07/Picture3-300x210.png)\n",
        "\n",
        "Assign data points to the closest cluster.\n",
        "\n",
        "![](https://healthcare.ai/wp-content/uploads/2017/07/Picture4-300x201.png)\n",
        "\n",
        "Find the new centroids of each cluster by taking the mean of all data points in the cluster.\n",
        "\n",
        "![](https://healthcare.ai/wp-content/uploads/2017/07/Picture5-300x187.png)\n",
        "\n",
        "Repeat steps 2,3 and 4 until all points converge and cluster centers stop moving.\n",
        "\n",
        "\n",
        "![](https://miro.medium.com/max/480/1*KrcZK0xYgTa4qFrVr0fO2w.gif)"
      ]
    },
    {
      "cell_type": "code",
      "metadata": {
        "colab": {
          "base_uri": "https://localhost:8080/"
        },
        "id": "iqKucP1UcVoJ",
        "outputId": "20e8805d-5b21-4396-a7b5-37e530f1e78e"
      },
      "source": [
        "# define + fit\n",
        "\n",
        "kmeans = KMeans(n_clusters = 4)\n",
        "kmeans.fit(X_)"
      ],
      "execution_count": 14,
      "outputs": [
        {
          "output_type": "execute_result",
          "data": {
            "text/plain": [
              "KMeans(algorithm='auto', copy_x=True, init='k-means++', max_iter=300,\n",
              "       n_clusters=4, n_init=10, n_jobs=None, precompute_distances='auto',\n",
              "       random_state=None, tol=0.0001, verbose=0)"
            ]
          },
          "metadata": {
            "tags": []
          },
          "execution_count": 14
        }
      ]
    },
    {
      "cell_type": "code",
      "metadata": {
        "colab": {
          "base_uri": "https://localhost:8080/",
          "height": 264
        },
        "id": "anb9WW0Kvmf9",
        "outputId": "235ab60d-acbe-4f3e-c4b9-fc15b7e5959e"
      },
      "source": [
        "y_pred = kmeans.predict(X_)\n",
        "plt.scatter(X_[:, 0], X_[:, 1], c = y_pred, s=50)\n",
        "plt.show()"
      ],
      "execution_count": 15,
      "outputs": [
        {
          "output_type": "display_data",
          "data": {
            "image/png": "[encoded data removed]",
            "text/plain": [
              "<Figure size 432x288 with 1 Axes>"
            ]
          },
          "metadata": {
            "tags": [],
            "needs_background": "light"
          }
        }
      ]
    },
    {
      "cell_type": "markdown",
      "metadata": {
        "id": "wPhKF4zFVv3F"
      },
      "source": [
        "## Question 1) : How can I choose the right number of clusters?\n",
        "\n",
        "*Remember we are not working with 2 variables (2d plots)*"
      ]
    },
    {
      "cell_type": "markdown",
      "metadata": {
        "id": "oe70SFJNvQo5"
      },
      "source": [
        "### Back to WINE DATASET\n",
        "\n",
        "\n"
      ]
    },
    {
      "cell_type": "code",
      "metadata": {
        "id": "LwUr5tGAgnXO"
      },
      "source": [
        "df_wine = pd.read_csv('http://archive.ics.uci.edu/ml/machine-learning-databases/wine-quality/winequality-white.csv', delimiter=\";\")"
      ],
      "execution_count": 16,
      "outputs": []
    },
    {
      "cell_type": "code",
      "metadata": {
        "id": "cmLBFo3Hx5yd"
      },
      "source": [
        "# Normalizing over the standard deviation\n",
        "features = df_wine.drop('quality', axis=1)\n",
        "X =features.values[:, 1:]\n",
        "Clus_dataset = StandardScaler().fit_transform(X)"
      ],
      "execution_count": 20,
      "outputs": []
    },
    {
      "cell_type": "code",
      "metadata": {
        "id": "k9l-sKAfyAFt",
        "colab": {
          "base_uri": "https://localhost:8080/",
          "height": 404
        },
        "outputId": "45e9cb39-415d-489f-f20c-c97806829e8e"
      },
      "source": [
        "wcss = []\n",
        "for i in range(1,11):\n",
        "    kmeans = KMeans(n_clusters=i,init='k-means++',max_iter=300, n_init=12, random_state=0)\n",
        "    kmeans.fit(X)\n",
        "    wcss.append(kmeans.inertia_)\n",
        "f3, ax = plt.subplots(figsize=(8, 6))\n",
        "plt.plot(range(1,11),wcss)\n",
        "plt.title('The Elbow Method')\n",
        "plt.xlabel('Number of clusters')\n",
        "plt.ylabel('WCSS')\n",
        "plt.show()"
      ],
      "execution_count": 21,
      "outputs": [
        {
          "output_type": "display_data",
          "data": {
            "image/png": "[encoded data removed]",
            "text/plain": [
              "<Figure size 576x432 with 1 Axes>"
            ]
          },
          "metadata": {
            "tags": [],
            "needs_background": "light"
          }
        }
      ]
    },
    {
      "cell_type": "code",
      "metadata": {
        "id": "u-4TxHHzyAEP",
        "colab": {
          "base_uri": "https://localhost:8080/"
        },
        "outputId": "95db6e9d-2047-4876-e18b-bd8d99ea26f8"
      },
      "source": [
        "clusterNum = 3\n",
        "k_means =KMeans(init='k-means++', n_clusters=clusterNum, n_init=12)\n",
        "k_means.fit(X)\n",
        "labels = k_means.labels_\n",
        "print(labels)\n"
      ],
      "execution_count": 22,
      "outputs": [
        {
          "output_type": "stream",
          "text": [
            "[2 0 1 ... 1 1 1]\n"
          ],
          "name": "stdout"
        }
      ]
    },
    {
      "cell_type": "code",
      "metadata": {
        "id": "WpJ7KiBLx_-H",
        "colab": {
          "base_uri": "https://localhost:8080/",
          "height": 197
        },
        "outputId": "f5f018e1-0c40-4b1a-d5e3-f7b8f078d862"
      },
      "source": [
        "# We assign the labels to each row in dataframe.\n",
        "features['Clus_km'] = labels\n",
        "features.head()"
      ],
      "execution_count": 24,
      "outputs": [
        {
          "output_type": "execute_result",
          "data": {
            "text/html": [
              "<div>\n",
              "<style scoped>\n",
              "    .dataframe tbody tr th:only-of-type {\n",
              "        vertical-align: middle;\n",
              "    }\n",
              "\n",
              "    .dataframe tbody tr th {\n",
              "        vertical-align: top;\n",
              "    }\n",
              "\n",
              "    .dataframe thead th {\n",
              "        text-align: right;\n",
              "    }\n",
              "</style>\n",
              "<table border=\"1\" class=\"dataframe\">\n",
              "  <thead>\n",
              "    <tr style=\"text-align: right;\">\n",
              "      <th></th>\n",
              "      <th>fixed acidity</th>\n",
              "      <th>volatile acidity</th>\n",
              "      <th>citric acid</th>\n",
              "      <th>residual sugar</th>\n",
              "      <th>chlorides</th>\n",
              "      <th>free sulfur dioxide</th>\n",
              "      <th>total sulfur dioxide</th>\n",
              "      <th>density</th>\n",
              "      <th>pH</th>\n",
              "      <th>sulphates</th>\n",
              "      <th>alcohol</th>\n",
              "      <th>Clus_km</th>\n",
              "    </tr>\n",
              "  </thead>\n",
              "  <tbody>\n",
              "    <tr>\n",
              "      <th>0</th>\n",
              "      <td>7.0</td>\n",
              "      <td>0.27</td>\n",
              "      <td>0.36</td>\n",
              "      <td>20.7</td>\n",
              "      <td>0.045</td>\n",
              "      <td>45.0</td>\n",
              "      <td>170.0</td>\n",
              "      <td>1.0010</td>\n",
              "      <td>3.00</td>\n",
              "      <td>0.45</td>\n",
              "      <td>8.8</td>\n",
              "      <td>2</td>\n",
              "    </tr>\n",
              "    <tr>\n",
              "      <th>1</th>\n",
              "      <td>6.3</td>\n",
              "      <td>0.30</td>\n",
              "      <td>0.34</td>\n",
              "      <td>1.6</td>\n",
              "      <td>0.049</td>\n",
              "      <td>14.0</td>\n",
              "      <td>132.0</td>\n",
              "      <td>0.9940</td>\n",
              "      <td>3.30</td>\n",
              "      <td>0.49</td>\n",
              "      <td>9.5</td>\n",
              "      <td>0</td>\n",
              "    </tr>\n",
              "    <tr>\n",
              "      <th>2</th>\n",
              "      <td>8.1</td>\n",
              "      <td>0.28</td>\n",
              "      <td>0.40</td>\n",
              "      <td>6.9</td>\n",
              "      <td>0.050</td>\n",
              "      <td>30.0</td>\n",
              "      <td>97.0</td>\n",
              "      <td>0.9951</td>\n",
              "      <td>3.26</td>\n",
              "      <td>0.44</td>\n",
              "      <td>10.1</td>\n",
              "      <td>1</td>\n",
              "    </tr>\n",
              "    <tr>\n",
              "      <th>3</th>\n",
              "      <td>7.2</td>\n",
              "      <td>0.23</td>\n",
              "      <td>0.32</td>\n",
              "      <td>8.5</td>\n",
              "      <td>0.058</td>\n",
              "      <td>47.0</td>\n",
              "      <td>186.0</td>\n",
              "      <td>0.9956</td>\n",
              "      <td>3.19</td>\n",
              "      <td>0.40</td>\n",
              "      <td>9.9</td>\n",
              "      <td>2</td>\n",
              "    </tr>\n",
              "    <tr>\n",
              "      <th>4</th>\n",
              "      <td>7.2</td>\n",
              "      <td>0.23</td>\n",
              "      <td>0.32</td>\n",
              "      <td>8.5</td>\n",
              "      <td>0.058</td>\n",
              "      <td>47.0</td>\n",
              "      <td>186.0</td>\n",
              "      <td>0.9956</td>\n",
              "      <td>3.19</td>\n",
              "      <td>0.40</td>\n",
              "      <td>9.9</td>\n",
              "      <td>2</td>\n",
              "    </tr>\n",
              "  </tbody>\n",
              "</table>\n",
              "</div>"
            ],
            "text/plain": [
              "   fixed acidity  volatile acidity  citric acid  ...  sulphates  alcohol  Clus_km\n",
              "0            7.0              0.27         0.36  ...       0.45      8.8        2\n",
              "1            6.3              0.30         0.34  ...       0.49      9.5        0\n",
              "2            8.1              0.28         0.40  ...       0.44     10.1        1\n",
              "3            7.2              0.23         0.32  ...       0.40      9.9        2\n",
              "4            7.2              0.23         0.32  ...       0.40      9.9        2\n",
              "\n",
              "[5 rows x 12 columns]"
            ]
          },
          "metadata": {
            "tags": []
          },
          "execution_count": 24
        }
      ]
    },
    {
      "cell_type": "code",
      "metadata": {
        "colab": {
          "base_uri": "https://localhost:8080/",
          "height": 167
        },
        "id": "CrGF-S33iWH2",
        "outputId": "826164e3-4a58-48b4-aba5-e73044186dff"
      },
      "source": [
        "features.groupby('Clus_km').mean()"
      ],
      "execution_count": 26,
      "outputs": [
        {
          "output_type": "execute_result",
          "data": {
            "text/html": [
              "<div>\n",
              "<style scoped>\n",
              "    .dataframe tbody tr th:only-of-type {\n",
              "        vertical-align: middle;\n",
              "    }\n",
              "\n",
              "    .dataframe tbody tr th {\n",
              "        vertical-align: top;\n",
              "    }\n",
              "\n",
              "    .dataframe thead th {\n",
              "        text-align: right;\n",
              "    }\n",
              "</style>\n",
              "<table border=\"1\" class=\"dataframe\">\n",
              "  <thead>\n",
              "    <tr style=\"text-align: right;\">\n",
              "      <th></th>\n",
              "      <th>fixed acidity</th>\n",
              "      <th>volatile acidity</th>\n",
              "      <th>citric acid</th>\n",
              "      <th>residual sugar</th>\n",
              "      <th>chlorides</th>\n",
              "      <th>free sulfur dioxide</th>\n",
              "      <th>total sulfur dioxide</th>\n",
              "      <th>density</th>\n",
              "      <th>pH</th>\n",
              "      <th>sulphates</th>\n",
              "      <th>alcohol</th>\n",
              "    </tr>\n",
              "    <tr>\n",
              "      <th>Clus_km</th>\n",
              "      <th></th>\n",
              "      <th></th>\n",
              "      <th></th>\n",
              "      <th></th>\n",
              "      <th></th>\n",
              "      <th></th>\n",
              "      <th></th>\n",
              "      <th></th>\n",
              "      <th></th>\n",
              "      <th></th>\n",
              "      <th></th>\n",
              "    </tr>\n",
              "  </thead>\n",
              "  <tbody>\n",
              "    <tr>\n",
              "      <th>0</th>\n",
              "      <td>6.858405</td>\n",
              "      <td>0.274258</td>\n",
              "      <td>0.338425</td>\n",
              "      <td>6.725367</td>\n",
              "      <td>0.046783</td>\n",
              "      <td>36.894937</td>\n",
              "      <td>143.497215</td>\n",
              "      <td>0.994275</td>\n",
              "      <td>3.191651</td>\n",
              "      <td>0.484724</td>\n",
              "      <td>10.432226</td>\n",
              "    </tr>\n",
              "    <tr>\n",
              "      <th>1</th>\n",
              "      <td>6.778643</td>\n",
              "      <td>0.273081</td>\n",
              "      <td>0.317525</td>\n",
              "      <td>4.169605</td>\n",
              "      <td>0.040894</td>\n",
              "      <td>23.936318</td>\n",
              "      <td>96.066185</td>\n",
              "      <td>0.992331</td>\n",
              "      <td>3.187836</td>\n",
              "      <td>0.479766</td>\n",
              "      <td>11.109390</td>\n",
              "    </tr>\n",
              "    <tr>\n",
              "      <th>2</th>\n",
              "      <td>6.970133</td>\n",
              "      <td>0.293480</td>\n",
              "      <td>0.353396</td>\n",
              "      <td>9.356089</td>\n",
              "      <td>0.051796</td>\n",
              "      <td>50.696889</td>\n",
              "      <td>196.939111</td>\n",
              "      <td>0.996303</td>\n",
              "      <td>3.183013</td>\n",
              "      <td>0.514951</td>\n",
              "      <td>9.707156</td>\n",
              "    </tr>\n",
              "  </tbody>\n",
              "</table>\n",
              "</div>"
            ],
            "text/plain": [
              "         fixed acidity  volatile acidity  ...  sulphates    alcohol\n",
              "Clus_km                                   ...                      \n",
              "0             6.858405          0.274258  ...   0.484724  10.432226\n",
              "1             6.778643          0.273081  ...   0.479766  11.109390\n",
              "2             6.970133          0.293480  ...   0.514951   9.707156\n",
              "\n",
              "[3 rows x 11 columns]"
            ]
          },
          "metadata": {
            "tags": []
          },
          "execution_count": 26
        }
      ]
    },
    {
      "cell_type": "code",
      "metadata": {
        "id": "IPVs9sV1yIUa"
      },
      "source": [
        "# create 2 dimensional graph\n",
        "f3, ax = plt.subplots(figsize=(16, 12))\n",
        "plt.scatter(X[:, 9], X[:, 5], c=labels.astype(np.float), alpha=.5)\n",
        "plt.xlabel('alcohol', fontsize=18)\n",
        "plt.ylabel('total sulfur dioxide', fontsize=16)"
      ],
      "execution_count": 32,
      "outputs": []
    },
    {
      "cell_type": "markdown",
      "metadata": {
        "id": "7x75FtQYYlia"
      },
      "source": [
        "# What can I say about this plot?\n",
        "\n",
        "good or a bad cluster segmentation?\n",
        "\n",
        "Why?"
      ]
    },
    {
      "cell_type": "code",
      "metadata": {
        "id": "K2sP4-kfyIcX"
      },
      "source": [
        "f4 = plt.figure(1, figsize=(8, 6))\n",
        "plt.clf()\n",
        "ax = Axes3D(f4, rect=[0, 0, .95, 1], elev=48, azim=134)\n",
        "\n",
        "plt.cla()\n",
        "ax.set_xlabel('alcohol')\n",
        "ax.set_ylabel('total sulfur dioxide')\n",
        "ax.set_zlabel('pH')\n",
        "\n",
        "ax.scatter(X[:, 9], X[:, 5], X[:, 7], c= labels.astype(np.float))\n",
        "plt.show()"
      ],
      "execution_count": 32,
      "outputs": []
    },
    {
      "cell_type": "markdown",
      "metadata": {
        "id": "5gAxx7g-Y-jp"
      },
      "source": [
        "## Disadvantages of k-means clustering\n",
        "\n",
        "\n",
        "- **Choosing k manually**. This is the greatest factor in the convergence of the algorithm and can provide widely different results for different values of k.\n",
        "- Clustering data of varying sizes and density. K-means doesn’t perform well with **clusters of different sizes, shapes, and density**. To cluster such data, you need to generalize k-means.\n",
        "- Clustering **outliers**. Outliers must be removed before clustering, or they may affect the position of the centroid or make a new cluster of their own.\n",
        "Being dependent on initial values. As the value of k increases, other algorithms(i.e. k-means seeding) need to be applied to give better values for the initial centroids.\n",
        "- **Scaling**. As the number of dimensions increases, the difficulty in getting the algorithm to converge increases due to the curse of dimensionality, discussed above.\n",
        "- **Overlapping** between clusters, k-means doesn’t have an intrinsic measure for uncertainty; thus it’s difficult to identify which points in the overlapping region should be assigned to which class."
      ]
    },
    {
      "cell_type": "markdown",
      "metadata": {
        "id": "xEli1XTKjDdo"
      },
      "source": [
        "**Exercise :**\n",
        "\n",
        "    Based on this PRO / CONS make your considerations on wine datasets (pre-processing)"
      ]
    },
    {
      "cell_type": "markdown",
      "metadata": {
        "id": "zYvsLwMsN8Wt"
      },
      "source": [
        "## DENSITY BASED CLUSTERING : DBSCAN\n",
        "\n",
        "*Density-Based Spatial Clustering of Applications with Noise*\n",
        "\n",
        "*Pseudocode*\n",
        "\n",
        "\n",
        "<img src=https://miro.medium.com/max/2144/1*_Wk6mbhHGv8nznWrv0WnDQ.png width=\"600\"/>\n",
        "\n"
      ]
    },
    {
      "cell_type": "markdown",
      "metadata": {
        "id": "btxwGNZ0rXvc"
      },
      "source": [
        "**Summarize**\n",
        "\n",
        "- DBSCAN begins with an arbitrary starting data point that has not been visited. The neighborhood of this point is extracted using a **distance epsilon ε**\n",
        "\n",
        "- If there are a sufficient number of points (according to **minPoints**) within this neighborhood then the clustering process starts and the current data point becomes the first point in the new cluster. Otherwise, the point will be labeled as **noise**\n",
        "\n",
        "- For this first point in the new cluster, the points within its ε distance neighborhood also become part of the same cluster. This procedure of making all points in the ε neighborhood belong to the same cluster is then repeated for all of the new points that have been just added to the cluster group.\n",
        "\n",
        "- This process of steps 2 and 3 is repeated until all points in the cluster are determined i.e all points within the ε neighborhood of the cluster have been visited and labeled."
      ]
    },
    {
      "cell_type": "markdown",
      "metadata": {
        "id": "QKbQ5C4UmDOx"
      },
      "source": [
        "![](https://dashee87.github.io/images/DBSCAN_tutorial.gif)"
      ]
    },
    {
      "cell_type": "markdown",
      "metadata": {
        "id": "VIt7oQAopptF"
      },
      "source": [
        "**Advantages of DBSCAN**\n",
        "\n",
        "- It does not require a pe-set number of clusters at all\n",
        "- Identifies outliers as noises\n",
        "\n",
        "\n",
        "**Disvantages of DBSCAN**\n",
        "\n",
        "- It doesn’t perform as well as others when the clusters are of varying density\n",
        "- This drawback also occurs with very high-dimensional (threshold ε)"
      ]
    },
    {
      "cell_type": "code",
      "metadata": {
        "id": "xcPCNocYN8h2"
      },
      "source": [
        ""
      ],
      "execution_count": 28,
      "outputs": []
    },
    {
      "cell_type": "markdown",
      "metadata": {
        "id": "pMBvb7SyN-Yu"
      },
      "source": [
        "## Expectation–Maximization (EM) Clustering using Gaussian Mixture Models (GMM)"
      ]
    },
    {
      "cell_type": "markdown",
      "metadata": {
        "id": "bnlP3GW2md4w"
      },
      "source": [
        "![](https://dashee87.github.io/images/em_only.gif)"
      ]
    },
    {
      "cell_type": "code",
      "metadata": {
        "id": "_wDyK66JN-h2"
      },
      "source": [
        ""
      ],
      "execution_count": 28,
      "outputs": []
    },
    {
      "cell_type": "markdown",
      "metadata": {
        "id": "kiuvb3kOOEPj"
      },
      "source": [
        "## Agglomerative Hierarchical Clustering\n",
        "\n",
        "\n",
        "Unlike k-means and EM, hierarchical clustering (HC) doesn’t require the user to specify the number of clusters beforehand. Instead it returns an output\n",
        "\n",
        "If done manually, the user may cut the dendrogram where the merged clusters are too far apart (represented by a long lines in the dendrogram). Alternatively, the user can just return a specific number of clusters (similar to k-means)."
      ]
    },
    {
      "cell_type": "markdown",
      "metadata": {
        "id": "2D7BQwmamhwf"
      },
      "source": [
        "![](https://dashee87.github.io/images/hierarch.gif)\n",
        "\n",
        "\n",
        "\n",
        "Another important concept in HC is the linkage criterion. This defines the distance between clusters as a function of the points in each cluster and determines which clusters are merged/split at each step.\n",
        "\n",
        "\n",
        "![](https://dashee87.github.io/images/scikit_clustering_13_1.png)\n",
        "\n",
        "\n",
        "*This is the MAIN problem with UNSUPERVISED LEARNING*"
      ]
    },
    {
      "cell_type": "markdown",
      "metadata": {
        "id": "jUKTcEAhJlln"
      },
      "source": [
        "# Exercise : Analyze performances with IRIS datasets"
      ]
    },
    {
      "cell_type": "code",
      "metadata": {
        "id": "d0xMRKreJsg0"
      },
      "source": [
        "from sklearn.datasets import load_iris\n",
        "iris = load_iris()"
      ],
      "execution_count": 30,
      "outputs": []
    },
    {
      "cell_type": "code",
      "metadata": {
        "id": "aI3VtZitKBkp",
        "colab": {
          "base_uri": "https://localhost:8080/"
        },
        "outputId": "f1b41820-d0bc-485b-e981-792ee20e5db0"
      },
      "source": [
        "print (iris.target_names)"
      ],
      "execution_count": 31,
      "outputs": [
        {
          "output_type": "stream",
          "text": [
            "['setosa' 'versicolor' 'virginica']\n"
          ],
          "name": "stdout"
        }
      ]
    },
    {
      "cell_type": "code",
      "metadata": {
        "id": "FmNEg7q1KBId"
      },
      "source": [
        ""
      ],
      "execution_count": null,
      "outputs": []
    },
    {
      "cell_type": "code",
      "metadata": {
        "id": "cH3Y1hvCKAxe"
      },
      "source": [
        ""
      ],
      "execution_count": null,
      "outputs": []
    },
    {
      "cell_type": "code",
      "metadata": {
        "id": "fx6MNSe6JzX1"
      },
      "source": [
        ""
      ],
      "execution_count": null,
      "outputs": []
    }
  ]
}